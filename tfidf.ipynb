{
 "cells": [
  {
   "cell_type": "code",
   "execution_count": 2,
   "metadata": {
    "collapsed": true,
    "deletable": true,
    "editable": true
   },
   "outputs": [],
   "source": [
    "import pandas as pd\n",
    "import numpy as np\n",
    "import cPickle \n",
    "from nltk.corpus import stopwords\n",
    "from gensim.models import word2vec\n",
    "import nltk.data\n",
    "import re\n",
    "import time\n",
    "import logging\n",
    "from nltk.stem.snowball import *\n",
    "import itertools\n",
    "\n",
    "# Python 2.x:\n",
    "import HTMLParser\n",
    "html_parser = HTMLParser.HTMLParser()\n",
    "\n",
    "import multiprocessing\n",
    "logging.basicConfig(format='%(asctime)s : %(levelname)s : %(message)s', level=logging.INFO)   \n",
    "\n",
    "from nltk.stem import WordNetLemmatizer, PorterStemmer\n",
    "wordnet_lemmatizer = WordNetLemmatizer()\n",
    "porter = PorterStemmer()"
   ]
  },
  {
   "cell_type": "code",
   "execution_count": 3,
   "metadata": {
    "collapsed": true,
    "deletable": true,
    "editable": true
   },
   "outputs": [],
   "source": [
    "from sklearn.feature_extraction.text import TfidfVectorizer"
   ]
  },
  {
   "cell_type": "code",
   "execution_count": 4,
   "metadata": {
    "collapsed": false,
    "deletable": true,
    "editable": true
   },
   "outputs": [
    {
     "name": "stdout",
     "output_type": "stream",
     "text": [
      "110660\n",
      "110637\n"
     ]
    }
   ],
   "source": [
    "import cPickle as pickle\n",
    "musthave_dice_naruki_data = pickle.load( open( \"musthave_dice_naruki_data.p\", \"rb\" ) )\n",
    "print len(musthave_dice_naruki_data)\n",
    "musthave_dice_naruki_data = [i for i in musthave_dice_naruki_data if len(i) > 0]\n",
    "print len(musthave_dice_naruki_data)"
   ]
  },
  {
   "cell_type": "code",
   "execution_count": null,
   "metadata": {
    "collapsed": true
   },
   "outputs": [],
   "source": []
  },
  {
   "cell_type": "code",
   "execution_count": 21,
   "metadata": {
    "collapsed": false
   },
   "outputs": [],
   "source": [
    "import math\n",
    "idf_obj = {}\n",
    "idf_keys = []\n",
    "\n",
    "def tf(word, blob):\n",
    "    return (1.0 * blob.count(word)) / len(blob)\n",
    "\n",
    "def n_containing(word, bloblist):\n",
    "    return sum(1 for blob in bloblist if word in blob)\n",
    "\n",
    "def idf(word, bloblist):\n",
    "    if not word in idf_obj:\n",
    "        idf_obj[word] = math.log(len(bloblist) / (1 + n_containing(word, bloblist)))\n",
    "    return idf_obj[word]\n",
    "#         return math.log(len(bloblist) / (1 + n_containing(word, bloblist)))\n",
    "\n",
    "def tfidf(word, blob, bloblist):\n",
    "    return tf(word, blob) * idf(word, bloblist)"
   ]
  },
  {
   "cell_type": "code",
   "execution_count": 25,
   "metadata": {
    "collapsed": false
   },
   "outputs": [
    {
     "name": "stdout",
     "output_type": "stream",
     "text": [
      "num_docs: 110637\n",
      "num_skills: 80695\n",
      "Take: 0.286262989044 (s)\n"
     ]
    },
    {
     "data": {
      "text/html": [
       "<div>\n",
       "<style>\n",
       "    .dataframe thead tr:only-child th {\n",
       "        text-align: right;\n",
       "    }\n",
       "\n",
       "    .dataframe thead th {\n",
       "        text-align: left;\n",
       "    }\n",
       "\n",
       "    .dataframe tbody tr th {\n",
       "        vertical-align: top;\n",
       "    }\n",
       "</style>\n",
       "<table border=\"1\" class=\"dataframe\">\n",
       "  <thead>\n",
       "    <tr style=\"text-align: right;\">\n",
       "      <th></th>\n",
       "      <th>skill</th>\n",
       "    </tr>\n",
       "  </thead>\n",
       "  <tbody>\n",
       "    <tr>\n",
       "      <th>0</th>\n",
       "      <td></td>\n",
       "    </tr>\n",
       "    <tr>\n",
       "      <th>1</th>\n",
       "      <td>technical_solution_consultant</td>\n",
       "    </tr>\n",
       "    <tr>\n",
       "      <th>2</th>\n",
       "      <td>gse_design</td>\n",
       "    </tr>\n",
       "    <tr>\n",
       "      <th>3</th>\n",
       "      <td>semi_solid_topical_fandd</td>\n",
       "    </tr>\n",
       "    <tr>\n",
       "      <th>4</th>\n",
       "      <td>clinical_laboratory</td>\n",
       "    </tr>\n",
       "  </tbody>\n",
       "</table>\n",
       "</div>"
      ],
      "text/plain": [
       "                           skill\n",
       "0                               \n",
       "1  technical_solution_consultant\n",
       "2                     gse_design\n",
       "3       semi_solid_topical_fandd\n",
       "4            clinical_laboratory"
      ]
     },
     "execution_count": 25,
     "metadata": {},
     "output_type": "execute_result"
    }
   ],
   "source": [
    "start = time.time()\n",
    "\n",
    "musthave_dice_naruki = musthave_dice_naruki_data\n",
    "all_skills = list(itertools.chain(*musthave_dice_naruki))\n",
    "all_skills = list(set(all_skills))\n",
    "\n",
    "num_docs = len(musthave_dice_naruki)\n",
    "num_skills = len(all_skills)\n",
    "\n",
    "print 'num_docs: %s\\nnum_skills: %s' % (num_docs, num_skills)\n",
    "\n",
    "td_matrix = pd.DataFrame()\n",
    "td_matrix['skill'] = all_skills\n",
    "td_matrix.drop_duplicates(inplace=True)\n",
    "\n",
    "print \"Take: %s (s)\" % (time.time() - start)\n",
    "\n",
    "td_matrix.head()"
   ]
  },
  {
   "cell_type": "code",
   "execution_count": null,
   "metadata": {
    "collapsed": false
   },
   "outputs": [],
   "source": [
    "start = time.time()\n",
    "for ix, tdrow in td_matrix.iterrows():\n",
    "    for i in range(num_docs):\n",
    "        doc = 'd' + str(i)\n",
    "        td_matrix.loc[ix, doc] = tfidf(tdrow['skill'], musthave_dice_naruki[i], musthave_dice_naruki)\n",
    "print \"Take: %s (s)\" % (time.time() - start)\n",
    "\n",
    "td_matrix.to_csv('tfidf_skills_matrix.csv', index=False, encoding='utf-8')"
   ]
  },
  {
   "cell_type": "code",
   "execution_count": null,
   "metadata": {
    "collapsed": true
   },
   "outputs": [],
   "source": []
  }
 ],
 "metadata": {
  "kernelspec": {
   "display_name": "Python 2",
   "language": "python",
   "name": "python2"
  },
  "language_info": {
   "codemirror_mode": {
    "name": "ipython",
    "version": 2
   },
   "file_extension": ".py",
   "mimetype": "text/x-python",
   "name": "python",
   "nbconvert_exporter": "python",
   "pygments_lexer": "ipython2",
   "version": "2.7.5"
  }
 },
 "nbformat": 4,
 "nbformat_minor": 2
}
